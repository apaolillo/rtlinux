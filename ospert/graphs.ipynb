{
 "cells": [
  {
   "cell_type": "code",
   "execution_count": null,
   "id": "e63b7643-7698-4164-bea1-4f1154b6443f",
   "metadata": {},
   "outputs": [],
   "source": [
    "import warnings\n",
    "warnings.simplefilter(action='ignore', category=FutureWarning)\n",
    "%matplotlib inline\n",
    "import matplotlib.pyplot as plt\n",
    "import numpy as np\n",
    "import pandas as pd\n",
    "import seaborn as sns"
   ]
  },
  {
   "cell_type": "code",
   "execution_count": null,
   "id": "66c76fc9-54ba-4f49-9080-02f7ca3066f9",
   "metadata": {},
   "outputs": [],
   "source": [
    "def load(name):\n",
    "    data = pd.read_table(name, \n",
    "                         sep=':', \n",
    "                         names=[\"Thread\", \"Interval\", \"Latency\"], \n",
    "                         nrows=41289000, #41289829\n",
    "                         skiprows=6)\n",
    "\n",
    "    print(data)\n",
    "    return data"
   ]
  },
  {
   "cell_type": "code",
   "execution_count": null,
   "id": "dbfb9b49-47a5-4da7-b68a-3d3fff9e664e",
   "metadata": {},
   "outputs": [],
   "source": [
    "def vals(data):\n",
    "    lat = data[\"Latency\"]\n",
    "    return {\"Min\": lat.min(), \"Avg\": lat.mean(), \"Max\": lat.max(), \"Std\": lat.std()}"
   ]
  },
  {
   "cell_type": "code",
   "execution_count": null,
   "id": "cc52728b-a735-4c92-8bf3-4aeda98c6166",
   "metadata": {},
   "outputs": [],
   "source": [
    "colors = [\"#696969\", \"#FFA07A\"]\n",
    "sns.set_palette(sns.color_palette(colors))\n",
    "\n",
    "bins = 100\n",
    "\n",
    "def save(plot, name):\n",
    "    fig = plot.get_figure()\n",
    "    fig.savefig(\"images_gen/\"+name, dpi=600)\n",
    "\n",
    "def draw_hist(data):\n",
    "    plot = sns.histplot(data=data, \n",
    "                         x=\"Latency\",\n",
    "                         bins=bins,\n",
    "                         log_scale=[False, True],\n",
    "                         color=colors[0])\n",
    "    plot.set_xlabel(\"Latency (μs)\")\n",
    "    return plot"
   ]
  },
  {
   "cell_type": "code",
   "execution_count": null,
   "id": "f10c84c3-b15c-4b43-9f8e-2afc86384d22",
   "metadata": {},
   "outputs": [],
   "source": [
    "data_custom = load(\"cyclictest_custom.txt\")\n",
    "plot_custom = draw_hist(data_custom)\n",
    "save(plot_custom, \"stock_%i.pdf\"%bins)"
   ]
  },
  {
   "cell_type": "code",
   "execution_count": null,
   "id": "ddefdaa2-4822-4d51-a3c1-96cbad5bc0d7",
   "metadata": {},
   "outputs": [],
   "source": [
    "data_rt = load(\"cyclictest_rt.txt\")\n",
    "plot_rt = draw_hist(data_rt)\n",
    "save(plot_rt, \"rt_%i.pdf\"%bins)"
   ]
  },
  {
   "cell_type": "code",
   "execution_count": null,
   "id": "cb64ba08-4473-4615-af9c-193580ded818",
   "metadata": {},
   "outputs": [],
   "source": [
    "adam = np.array([(\"EMLID\", \"RPi1\", 27, 77), (\"Durr\", \"RPi1\", 37, 156), (\"Benway\", \"RPi1\", 36, 105), \\\n",
    "                 (\"Molloy\", \"RPi2\", 12, 98), (\"Adam\", \"RPi3\", 53, 80), (\"Balci\", \"RPi3\", 50, 91), \\\n",
    "                 (\"Autostatic\", \"RPi3\", 70, 100), (\"Riva\", \"RPi3\", 100, 147)],\n",
    "                dtype=[(\"Author\", \"str\"), (\"RPi\", \"str\"), (\"Avg\", \"i4\"), (\"Max\", \"i4\")])\n",
    "\n",
    "plot_adam = sns.lineplot(data=adam, markers=True, dashes=False)\n",
    "plot_adam.set_ylabel(\"Latency (μs)\")\n",
    "plot_adam.axhline(5.9, color=colors[0], linestyle=\":\")\n",
    "plot_adam.axhline(124, color=colors[1], linestyle=\":\")\n",
    "plot_adam.set(ylim=(-12,170))\n",
    "\n",
    "# save(plot_adam, \"other_studies1.png\")"
   ]
  },
  {
   "cell_type": "code",
   "execution_count": null,
   "id": "9626fbfe-244a-496b-a456-6b9e868e1aec",
   "metadata": {},
   "outputs": [],
   "source": [
    "v = vals(data_rt)\n",
    "our_avg = v[\"Avg\"]\n",
    "our_max = v[\"Max\"]\n",
    "\n",
    "adam_data = {\"Author\": [\"Our\", \"EMLID\", \"Durr\", \"Benway\", \"Molloy\", \"Adam\", \"Balci\", \"Autostatic\", \"Riva\"],\n",
    "             \"RPi\": [\"RPi5\", \"RPi1\", \"RPi1\", \"RPi1\", \"RPi2\", \"RPi3\", \"RPi3\", \"RPi3\", \"RPi3\"], \\\n",
    "             \"Avg\": [our_avg, 27, 37, 36, 12, 53, 50, 55, 100], \\\n",
    "             \"Max\": [our_max, 77, 156, 105, 98, 80, 91, 100, 147]}\n",
    "adam = pd.DataFrame(data=adam_data).melt(id_vars=\"Author\", value_vars=[\"Avg\",\"Max\"])\n",
    "adam"
   ]
  },
  {
   "cell_type": "code",
   "execution_count": null,
   "id": "00e45544-ac47-4b7e-a3b9-e1905eb9326f",
   "metadata": {},
   "outputs": [],
   "source": [
    "plot_adam = sns.lineplot(data=adam[adam[\"Author\"] != \"Our\"], x=\"Author\", y=\"value\", hue=\"variable\", markers=True, dashes=False)\n",
    "plot_adam.set_ylabel(\"Latency (μs)\")\n",
    "plot_adam.axhline(our_avg, color=colors[0], linestyle=\":\")\n",
    "plot_adam.axhline(our_max, color=colors[1], linestyle=\":\")\n",
    "plot_adam.set(ylim=(-12,170))\n",
    "sns.move_legend(\n",
    "    plot_adam, \"lower center\",\n",
    "    bbox_to_anchor=(.5, 1), ncol=6, title=None, frameon=False,\n",
    ")\n",
    "\n",
    "# save(plot_adam, \"other_studies2.png\")"
   ]
  },
  {
   "cell_type": "code",
   "execution_count": null,
   "id": "64da9516-1c25-4a6f-8871-8d87a4d8f83a",
   "metadata": {},
   "outputs": [],
   "source": [
    "plot_adam = sns.barplot(data=adam, x=\"Author\", y=\"value\", hue=\"variable\")\n",
    "plot_adam.set_ylabel(\"Latency (μs)\")\n",
    "plot_adam.axhline(our_avg, color=colors[0], linestyle=\":\")\n",
    "plot_adam.axhline(our_max, color=colors[1], linestyle=\":\")\n",
    "plot_adam.set(ylim=(-12,170))\n",
    "sns.move_legend(\n",
    "    plot_adam, \"lower center\",\n",
    "    bbox_to_anchor=(.5, 1), ncol=6, title=None, frameon=False,\n",
    ")\n",
    "\n",
    "save(plot_adam, \"other_studies.pdf\")"
   ]
  }
 ],
 "metadata": {
  "kernelspec": {
   "display_name": "Python 3 (ipykernel)",
   "language": "python",
   "name": "python3"
  },
  "language_info": {
   "codemirror_mode": {
    "name": "ipython",
    "version": 3
   },
   "file_extension": ".py",
   "mimetype": "text/x-python",
   "name": "python",
   "nbconvert_exporter": "python",
   "pygments_lexer": "ipython3",
   "version": "3.11.2"
  }
 },
 "nbformat": 4,
 "nbformat_minor": 5
}
